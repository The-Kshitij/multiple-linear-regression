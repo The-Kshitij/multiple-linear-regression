{
  "nbformat": 4,
  "nbformat_minor": 0,
  "metadata": {
    "colab": {
      "name": "ML_backward_elimination.ipynb",
      "provenance": [],
      "collapsed_sections": []
    },
    "kernelspec": {
      "name": "python3",
      "display_name": "Python 3"
    },
    "language_info": {
      "name": "python"
    }
  },
  "cells": [
    {
      "cell_type": "code",
      "metadata": {
        "colab": {
          "base_uri": "https://localhost:8080/"
        },
        "id": "5_2dC-hR0nsK",
        "outputId": "2d72b1c9-519c-4361-b4c2-85cf7364059f"
      },
      "source": [
        "import numpy as np;\n",
        "import pandas as pd;\n",
        "\n",
        "from sklearn.compose import ColumnTransformer;\n",
        "from sklearn.preprocessing import OneHotEncoder;\n",
        "\n",
        "from sklearn.model_selection import train_test_split;\n",
        "\n",
        "from sklearn.preprocessing import StandardScaler;\n",
        "\n",
        "import statsmodels.api as sm;\n",
        "import matplotlib.pyplot as plt;"
      ],
      "execution_count": 1,
      "outputs": [
        {
          "output_type": "stream",
          "name": "stderr",
          "text": [
            "/usr/local/lib/python3.7/dist-packages/statsmodels/tools/_testing.py:19: FutureWarning: pandas.util.testing is deprecated. Use the functions in the public API at pandas.testing instead.\n",
            "  import pandas.util.testing as tm\n"
          ]
        }
      ]
    },
    {
      "cell_type": "code",
      "metadata": {
        "id": "Wg_PthCN1zsT"
      },
      "source": [
        "dataset = pd.read_csv(\"Fish.csv\");"
      ],
      "execution_count": 2,
      "outputs": []
    },
    {
      "cell_type": "code",
      "metadata": {
        "id": "alOlLS0H2jFt"
      },
      "source": [
        "print(dataset);"
      ],
      "execution_count": null,
      "outputs": []
    },
    {
      "cell_type": "code",
      "metadata": {
        "id": "_U_wm5A513jt"
      },
      "source": [
        "x = np.concatenate((dataset.iloc[:,2:].values,dataset.iloc[:,0].values.reshape(len(dataset.iloc[:,0]),1)),1);"
      ],
      "execution_count": 3,
      "outputs": []
    },
    {
      "cell_type": "code",
      "metadata": {
        "id": "HTPUN8de2XYT"
      },
      "source": [
        "y = dataset.iloc[:,1].values;"
      ],
      "execution_count": 11,
      "outputs": []
    },
    {
      "cell_type": "code",
      "metadata": {
        "colab": {
          "base_uri": "https://localhost:8080/"
        },
        "id": "mj2u5MAZ2ajs",
        "outputId": "c3d5eb5a-874d-4eec-e6c2-3dc17bbb3e36"
      },
      "source": [
        "print(x.shape);"
      ],
      "execution_count": 13,
      "outputs": [
        {
          "output_type": "stream",
          "name": "stdout",
          "text": [
            "(159, 11)\n"
          ]
        }
      ]
    },
    {
      "cell_type": "code",
      "metadata": {
        "id": "i6G0f2yI2gvS"
      },
      "source": [
        "print(y);"
      ],
      "execution_count": null,
      "outputs": []
    },
    {
      "cell_type": "code",
      "metadata": {
        "id": "SGwIJoR53NJj"
      },
      "source": [
        "#for encoding the categorical values\n",
        "ct = ColumnTransformer(transformers=[(\"encoder\",OneHotEncoder(),[-1])],remainder=\"passthrough\");"
      ],
      "execution_count": 8,
      "outputs": []
    },
    {
      "cell_type": "code",
      "metadata": {
        "id": "iIxDXHQA3cpD"
      },
      "source": [
        "x = ct.fit_transform(x);"
      ],
      "execution_count": 9,
      "outputs": []
    },
    {
      "cell_type": "code",
      "metadata": {
        "id": "1sZjX0y662gT"
      },
      "source": [
        "'''\n",
        "The model that will be used it doesn't solve the dummy variable problem so for that, will have to skip\n",
        "the first column.\n",
        "'''\n",
        "x = x[:,1:];\n",
        "\n",
        "#need the data to be of float64 to support the isfinite ufunc\n",
        "x = x.astype(\"float64\");"
      ],
      "execution_count": 12,
      "outputs": []
    },
    {
      "cell_type": "code",
      "metadata": {
        "id": "AomN3HNw3iYe"
      },
      "source": [
        "x_train,x_test,y_train,y_test = train_test_split(x,y,test_size=0.2,random_state=1);"
      ],
      "execution_count": 14,
      "outputs": []
    },
    {
      "cell_type": "code",
      "metadata": {
        "id": "zZYeFh8f4Zwy"
      },
      "source": [
        "#feature scaling\n",
        "Scaler = StandardScaler();\n",
        "#since the first three values are the encoded values, so ignoring them\n",
        "Scaler.fit(x_train[:,3:]);\n",
        "x_train[:,3:] = Scaler.transform(x_train[:,3:]); "
      ],
      "execution_count": 17,
      "outputs": []
    },
    {
      "cell_type": "code",
      "metadata": {
        "id": "M7T467-j5nbe"
      },
      "source": [
        "x_test[:,3:] = Scaler.transform(x_test[:,3:]); "
      ],
      "execution_count": 18,
      "outputs": []
    },
    {
      "cell_type": "code",
      "metadata": {
        "colab": {
          "base_uri": "https://localhost:8080/"
        },
        "id": "JWF4OeND5yGE",
        "outputId": "2fac100a-9572-44d7-ff7f-0f4e66500e16"
      },
      "source": [
        "print(x_test.shape);\n",
        "print(x_train.shape);"
      ],
      "execution_count": 21,
      "outputs": [
        {
          "output_type": "stream",
          "name": "stdout",
          "text": [
            "(32, 11)\n",
            "(127, 11)\n"
          ]
        }
      ]
    },
    {
      "cell_type": "code",
      "metadata": {
        "id": "KLYACRTR90YO"
      },
      "source": [
        "'''\n",
        "the method that I am about to use, for making the model doesn't take into account the constant term\n",
        "in the equation of linear regression or the coefficient of x0 = 1, so will have to add a column of 1s at\n",
        "the start.\n",
        "'''\n",
        "#x_train = np.append(np.ones((len(x_train),1)),x_train,1);\n",
        "r,c = x_train.shape;\n",
        "x_train1 = np.append(np.ones((r,1)),x_train,1)"
      ],
      "execution_count": 20,
      "outputs": []
    },
    {
      "cell_type": "code",
      "metadata": {
        "colab": {
          "base_uri": "https://localhost:8080/"
        },
        "id": "qtUL05Jf_gKH",
        "outputId": "aee09ce4-d0f4-40d2-9ec7-5261f7010803"
      },
      "source": [
        "print(x_train1.shape);"
      ],
      "execution_count": 22,
      "outputs": [
        {
          "output_type": "stream",
          "name": "stdout",
          "text": [
            "(127, 12)\n"
          ]
        }
      ]
    },
    {
      "cell_type": "code",
      "metadata": {
        "id": "AXw1tqXn5_wk"
      },
      "source": [
        "print(x_train);"
      ],
      "execution_count": null,
      "outputs": []
    },
    {
      "cell_type": "code",
      "metadata": {
        "id": "1Uh07O9N6AMR"
      },
      "source": [
        "def OLS_model_return(x,y):\n",
        "    OLS_obj = sm.OLS(endog=y,exog=x);\n",
        "    model = OLS_obj.fit()\n",
        "    print(model.summary());\n",
        "    return model"
      ],
      "execution_count": 30,
      "outputs": []
    },
    {
      "cell_type": "code",
      "metadata": {
        "colab": {
          "base_uri": "https://localhost:8080/"
        },
        "id": "1vF4janA7fWp",
        "outputId": "f237907f-064b-4948-8623-c462d59c9e39"
      },
      "source": [
        "#eliminating the variables according to their p-score, SL = 0.05\n",
        "model = OLS_model_return(x_train1,y_train);"
      ],
      "execution_count": 31,
      "outputs": [
        {
          "output_type": "stream",
          "name": "stdout",
          "text": [
            "                            OLS Regression Results                            \n",
            "==============================================================================\n",
            "Dep. Variable:                      y   R-squared:                       0.940\n",
            "Model:                            OLS   Adj. R-squared:                  0.935\n",
            "Method:                 Least Squares   F-statistic:                     164.8\n",
            "Date:                Sun, 05 Sep 2021   Prob (F-statistic):           5.96e-65\n",
            "Time:                        03:50:36   Log-Likelihood:                -746.31\n",
            "No. Observations:                 127   AIC:                             1517.\n",
            "Df Residuals:                     115   BIC:                             1551.\n",
            "Df Model:                          11                                         \n",
            "Covariance Type:            nonrobust                                         \n",
            "==============================================================================\n",
            "                 coef    std err          t      P>|t|      [0.025      0.975]\n",
            "------------------------------------------------------------------------------\n",
            "const        422.0931     62.593      6.743      0.000     298.109     546.077\n",
            "x1           131.8815     77.125      1.710      0.090     -20.888     284.651\n",
            "x2            54.6710    123.378      0.443      0.659    -189.717     299.059\n",
            "x3          -325.4641    145.143     -2.242      0.027    -612.965     -37.963\n",
            "x4             8.3404     29.997      0.278      0.781     -51.077      67.758\n",
            "x5           100.5894     36.752      2.737      0.007      27.792     173.387\n",
            "x6             0.9547     19.433      0.049      0.961     -37.539      39.448\n",
            "x7          -776.1388    389.037     -1.995      0.048   -1546.746      -5.531\n",
            "x8           906.1938    505.465      1.793      0.076     -95.036    1907.423\n",
            "x9           301.5001    345.520      0.873      0.385    -382.909     985.909\n",
            "x10          -37.2936     60.837     -0.613      0.541    -157.801      83.214\n",
            "x11           40.3455     42.358      0.952      0.343     -43.557     124.248\n",
            "==============================================================================\n",
            "Omnibus:                       41.427   Durbin-Watson:                   2.000\n",
            "Prob(Omnibus):                  0.000   Jarque-Bera (JB):              112.401\n",
            "Skew:                           1.235   Prob(JB):                     3.91e-25\n",
            "Kurtosis:                       6.891   Cond. No.                         170.\n",
            "==============================================================================\n",
            "\n",
            "Warnings:\n",
            "[1] Standard Errors assume that the covariance matrix of the errors is correctly specified.\n"
          ]
        }
      ]
    },
    {
      "cell_type": "code",
      "metadata": {
        "colab": {
          "base_uri": "https://localhost:8080/"
        },
        "id": "IWyATu9s8KbV",
        "outputId": "8356291f-23c7-4d31-8af4-7b8f6446c97a"
      },
      "source": [
        "#maximum value is 0.9 and is at index 6 so removing it\n",
        "x_temp = x_train1[:,[0,1,2,3,4,5,7,8,9,10]];\n",
        "model = OLS_model_return(x_temp,y_train);"
      ],
      "execution_count": 32,
      "outputs": [
        {
          "output_type": "stream",
          "name": "stdout",
          "text": [
            "                            OLS Regression Results                            \n",
            "==============================================================================\n",
            "Dep. Variable:                      y   R-squared:                       0.940\n",
            "Model:                            OLS   Adj. R-squared:                  0.935\n",
            "Method:                 Least Squares   F-statistic:                     202.4\n",
            "Date:                Sun, 05 Sep 2021   Prob (F-statistic):           5.64e-67\n",
            "Time:                        03:50:50   Log-Likelihood:                -747.04\n",
            "No. Observations:                 127   AIC:                             1514.\n",
            "Df Residuals:                     117   BIC:                             1543.\n",
            "Df Model:                           9                                         \n",
            "Covariance Type:            nonrobust                                         \n",
            "==============================================================================\n",
            "                 coef    std err          t      P>|t|      [0.025      0.975]\n",
            "------------------------------------------------------------------------------\n",
            "const        426.8185     28.470     14.992      0.000     370.435     483.202\n",
            "x1           122.2188     49.525      2.468      0.015      24.138     220.300\n",
            "x2            56.2446     54.111      1.039      0.301     -50.918     163.408\n",
            "x3          -361.0631     84.633     -4.266      0.000    -528.674    -193.452\n",
            "x4            10.2428     14.810      0.692      0.491     -19.087      39.573\n",
            "x5            97.6659     19.215      5.083      0.000      59.611     135.721\n",
            "x6          -751.0633    387.212     -1.940      0.055   -1517.916      15.790\n",
            "x7           995.6883    464.125      2.145      0.034      76.513    1914.864\n",
            "x8           215.8960    278.223      0.776      0.439    -335.110     766.902\n",
            "x9           -20.5901     44.579     -0.462      0.645    -108.876      67.696\n",
            "==============================================================================\n",
            "Omnibus:                       35.293   Durbin-Watson:                   1.977\n",
            "Prob(Omnibus):                  0.000   Jarque-Bera (JB):               85.295\n",
            "Skew:                           1.087   Prob(JB):                     3.01e-19\n",
            "Kurtosis:                       6.375   Cond. No.                         145.\n",
            "==============================================================================\n",
            "\n",
            "Warnings:\n",
            "[1] Standard Errors assume that the covariance matrix of the errors is correctly specified.\n"
          ]
        }
      ]
    },
    {
      "cell_type": "code",
      "metadata": {
        "colab": {
          "base_uri": "https://localhost:8080/"
        },
        "id": "ZUvjc_CHAdQC",
        "outputId": "c1f59135-d407-480b-811b-14b43719602a"
      },
      "source": [
        "#maximum value is 0.6 and is at index 9 so removing it\n",
        "x_temp = x_train1[:,[0,1,2,3,4,6,7,8,9]];\n",
        "model = OLS_model_return(x_temp,y_train);"
      ],
      "execution_count": 33,
      "outputs": [
        {
          "output_type": "stream",
          "name": "stdout",
          "text": [
            "                            OLS Regression Results                            \n",
            "==============================================================================\n",
            "Dep. Variable:                      y   R-squared:                       0.931\n",
            "Model:                            OLS   Adj. R-squared:                  0.927\n",
            "Method:                 Least Squares   F-statistic:                     200.2\n",
            "Date:                Sun, 05 Sep 2021   Prob (F-statistic):           6.88e-65\n",
            "Time:                        03:51:10   Log-Likelihood:                -755.20\n",
            "No. Observations:                 127   AIC:                             1528.\n",
            "Df Residuals:                     118   BIC:                             1554.\n",
            "Df Model:                           8                                         \n",
            "Covariance Type:            nonrobust                                         \n",
            "==============================================================================\n",
            "                 coef    std err          t      P>|t|      [0.025      0.975]\n",
            "------------------------------------------------------------------------------\n",
            "const        567.1319     22.293     25.440      0.000     522.986     611.278\n",
            "x1           -96.1793     36.606     -2.627      0.010    -168.669     -23.690\n",
            "x2          -236.3582     43.021     -5.494      0.000    -321.551    -151.165\n",
            "x3          -570.2194     49.721    -11.468      0.000    -668.680    -471.759\n",
            "x4           -48.9371      9.921     -4.933      0.000     -68.583     -29.292\n",
            "x5           -33.4944     10.038     -3.337      0.001     -53.372     -13.617\n",
            "x6          -198.6529    383.205     -0.518      0.605    -957.503     560.197\n",
            "x7          1414.2738    514.432      2.749      0.007     395.558    2432.990\n",
            "x8          -808.5876    186.315     -4.340      0.000   -1177.542    -439.633\n",
            "==============================================================================\n",
            "Omnibus:                       22.370   Durbin-Watson:                   1.902\n",
            "Prob(Omnibus):                  0.000   Jarque-Bera (JB):               38.498\n",
            "Skew:                           0.805   Prob(JB):                     4.37e-09\n",
            "Kurtosis:                       5.164   Cond. No.                         134.\n",
            "==============================================================================\n",
            "\n",
            "Warnings:\n",
            "[1] Standard Errors assume that the covariance matrix of the errors is correctly specified.\n"
          ]
        }
      ]
    },
    {
      "cell_type": "code",
      "metadata": {
        "colab": {
          "base_uri": "https://localhost:8080/"
        },
        "id": "rnm6VBYLEnzY",
        "outputId": "2a2c47b1-c5e9-4e20-8a2c-a0e64191f0b6"
      },
      "source": [
        "#maximum value is 0.6 and is at index 6 so removing it\n",
        "x_temp = x_train1[:,[0,1,2,3,4,6,8,9]];\n",
        "model = OLS_model_return(x_temp,y_train);"
      ],
      "execution_count": 34,
      "outputs": [
        {
          "output_type": "stream",
          "name": "stdout",
          "text": [
            "                            OLS Regression Results                            \n",
            "==============================================================================\n",
            "Dep. Variable:                      y   R-squared:                       0.931\n",
            "Model:                            OLS   Adj. R-squared:                  0.927\n",
            "Method:                 Least Squares   F-statistic:                     230.2\n",
            "Date:                Sun, 05 Sep 2021   Prob (F-statistic):           4.99e-66\n",
            "Time:                        03:51:21   Log-Likelihood:                -755.34\n",
            "No. Observations:                 127   AIC:                             1527.\n",
            "Df Residuals:                     119   BIC:                             1549.\n",
            "Df Model:                           7                                         \n",
            "Covariance Type:            nonrobust                                         \n",
            "==============================================================================\n",
            "                 coef    std err          t      P>|t|      [0.025      0.975]\n",
            "------------------------------------------------------------------------------\n",
            "const        563.5491     21.129     26.671      0.000     521.711     605.387\n",
            "x1           -93.5093     36.130     -2.588      0.011    -165.050     -21.968\n",
            "x2          -227.0262     38.953     -5.828      0.000    -304.157    -149.895\n",
            "x3          -567.9463     49.374    -11.503      0.000    -665.713    -470.180\n",
            "x4           -48.9235      9.890     -4.947      0.000     -68.507     -29.340\n",
            "x5           -31.9778      9.572     -3.341      0.001     -50.932     -13.023\n",
            "x6          1160.4512    157.327      7.376      0.000     848.927    1471.975\n",
            "x7          -753.3202    152.328     -4.945      0.000   -1054.945    -451.696\n",
            "==============================================================================\n",
            "Omnibus:                       22.378   Durbin-Watson:                   1.909\n",
            "Prob(Omnibus):                  0.000   Jarque-Bera (JB):               39.777\n",
            "Skew:                           0.790   Prob(JB):                     2.30e-09\n",
            "Kurtosis:                       5.240   Cond. No.                         38.6\n",
            "==============================================================================\n",
            "\n",
            "Warnings:\n",
            "[1] Standard Errors assume that the covariance matrix of the errors is correctly specified.\n"
          ]
        }
      ]
    },
    {
      "cell_type": "code",
      "metadata": {
        "id": "qe-BKji9Ez29"
      },
      "source": [
        "#max p is less than sl, so this is the final model, and the values of columns remaining have importance on result\n",
        "imp_indices = [0,1,2,3,4,6,8,9];\n",
        "y_pred = model.predict(exog=x_test[:,imp_indices]);"
      ],
      "execution_count": 37,
      "outputs": []
    },
    {
      "cell_type": "code",
      "metadata": {
        "id": "O5h10RyRFweH"
      },
      "source": [
        "merged = np.concatenate((y_pred.reshape(len(y_pred),1),y_test.reshape(len(y_pred),1)),axis=1);"
      ],
      "execution_count": 38,
      "outputs": []
    },
    {
      "cell_type": "code",
      "metadata": {
        "colab": {
          "base_uri": "https://localhost:8080/",
          "height": 281
        },
        "id": "Q1SbnKoxGBl1",
        "outputId": "a5bcec38-c4c8-4428-a54b-abe3dc94c24a"
      },
      "source": [
        "prc=0;\n",
        "for i in range(0,len(merged)):\n",
        "    if prc==0:\n",
        "        plt.scatter(i,merged[i][0],color=\"blue\",marker=\"*\",label=\"predict\");\n",
        "        plt.scatter(i,merged[i][1],color=\"red\",label=\"actual\");\n",
        "        prc=1;\n",
        "    else:\n",
        "        plt.scatter(i,merged[i][0],color=\"blue\",marker=\"*\");\n",
        "        plt.scatter(i,merged[i][1],color=\"red\");\n",
        "\n",
        "plt.title(\"Predicted vs actual\");\n",
        "plt.ylabel(\"Weights\");\n",
        "plt.legend();\n",
        "plt.show();"
      ],
      "execution_count": 43,
      "outputs": [
        {
          "output_type": "display_data",
          "data": {
            "image/png": "[encoded data removed]",
            "text/plain": [
              "<Figure size 432x288 with 1 Axes>"
            ]
          },
          "metadata": {
            "needs_background": "light"
          }
        }
      ]
    }
  ]
}